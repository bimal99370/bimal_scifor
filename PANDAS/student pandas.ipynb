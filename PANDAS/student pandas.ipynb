{
 "cells": [
  {
   "cell_type": "code",
   "execution_count": 3,
   "id": "83b8eafe",
   "metadata": {},
   "outputs": [],
   "source": [
    "import numpy as np\n",
    "import pandas as pd"
   ]
  },
  {
   "cell_type": "code",
   "execution_count": 4,
   "id": "97758934",
   "metadata": {},
   "outputs": [
    {
     "name": "stdout",
     "output_type": "stream",
     "text": [
      "\n",
      "Enter Student name:ajay\n",
      "Enter Math marks: 98\n",
      "Enter physics marks: 97\n",
      "Enter chemistry marks: 96\n",
      "\n",
      "Enter Student name:bimal\n",
      "Enter Math marks: 89\n",
      "Enter physics marks: 88\n",
      "Enter chemistry marks: 87\n",
      "\n",
      "Enter Student name:chitra\n",
      "Enter Math marks: 79\n",
      "Enter physics marks: 78\n",
      "Enter chemistry marks: 77\n",
      "\n",
      "Enter Student name:dhruv\n",
      "Enter Math marks: 69\n",
      "Enter physics marks: 68\n",
      "Enter chemistry marks: 67\n",
      "\n",
      "Enter Student name:farhan\n",
      "Enter Math marks: 59\n",
      "Enter physics marks: 58\n",
      "Enter chemistry marks: 57\n"
     ]
    },
    {
     "data": {
      "text/html": [
       "<div>\n",
       "<style scoped>\n",
       "    .dataframe tbody tr th:only-of-type {\n",
       "        vertical-align: middle;\n",
       "    }\n",
       "\n",
       "    .dataframe tbody tr th {\n",
       "        vertical-align: top;\n",
       "    }\n",
       "\n",
       "    .dataframe thead th {\n",
       "        text-align: right;\n",
       "    }\n",
       "</style>\n",
       "<table border=\"1\" class=\"dataframe\">\n",
       "  <thead>\n",
       "    <tr style=\"text-align: right;\">\n",
       "      <th></th>\n",
       "      <th>Math</th>\n",
       "      <th>physics</th>\n",
       "      <th>chemistry</th>\n",
       "    </tr>\n",
       "  </thead>\n",
       "  <tbody>\n",
       "    <tr>\n",
       "      <th>ajay</th>\n",
       "      <td>98</td>\n",
       "      <td>97</td>\n",
       "      <td>96</td>\n",
       "    </tr>\n",
       "    <tr>\n",
       "      <th>bimal</th>\n",
       "      <td>89</td>\n",
       "      <td>88</td>\n",
       "      <td>87</td>\n",
       "    </tr>\n",
       "    <tr>\n",
       "      <th>chitra</th>\n",
       "      <td>79</td>\n",
       "      <td>78</td>\n",
       "      <td>77</td>\n",
       "    </tr>\n",
       "    <tr>\n",
       "      <th>dhruv</th>\n",
       "      <td>69</td>\n",
       "      <td>68</td>\n",
       "      <td>67</td>\n",
       "    </tr>\n",
       "    <tr>\n",
       "      <th>farhan</th>\n",
       "      <td>59</td>\n",
       "      <td>58</td>\n",
       "      <td>57</td>\n",
       "    </tr>\n",
       "  </tbody>\n",
       "</table>\n",
       "</div>"
      ],
      "text/plain": [
       "        Math  physics  chemistry\n",
       "ajay      98       97         96\n",
       "bimal     89       88         87\n",
       "chitra    79       78         77\n",
       "dhruv     69       68         67\n",
       "farhan    59       58         57"
      ]
     },
     "execution_count": 4,
     "metadata": {},
     "output_type": "execute_result"
    }
   ],
   "source": [
    "student_details={}\n",
    "for i in range(5):\n",
    "    sname=input(\"\\nEnter Student name:\")\n",
    "    \n",
    "    marks={}\n",
    "    for subject in [\"Math\", \"physics\", \"chemistry\"]:\n",
    "        marks[subject]=int(input(f\"Enter {subject} marks: \"))\n",
    "    student_details[sname]=marks \n",
    "# print(student_details)\n",
    "df=pd.DataFrame(student_details)\n",
    "df=df.T\n",
    "df"
   ]
  }
 ],
 "metadata": {
  "kernelspec": {
   "display_name": "Python 3 (ipykernel)",
   "language": "python",
   "name": "python3"
  },
  "language_info": {
   "codemirror_mode": {
    "name": "ipython",
    "version": 3
   },
   "file_extension": ".py",
   "mimetype": "text/x-python",
   "name": "python",
   "nbconvert_exporter": "python",
   "pygments_lexer": "ipython3",
   "version": "3.11.4"
  }
 },
 "nbformat": 4,
 "nbformat_minor": 5
}
